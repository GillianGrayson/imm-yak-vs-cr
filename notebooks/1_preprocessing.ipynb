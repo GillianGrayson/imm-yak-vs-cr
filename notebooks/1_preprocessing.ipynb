{
 "cells": [
  {
   "cell_type": "markdown",
   "metadata": {
    "collapsed": false
   },
   "source": [
    "# Debugging autoreload"
   ]
  },
  {
   "cell_type": "code",
   "execution_count": null,
   "metadata": {
    "collapsed": false
   },
   "outputs": [],
   "source": [
    "%load_ext autoreload\n",
    "%autoreload 2"
   ]
  },
  {
   "cell_type": "markdown",
   "metadata": {
    "collapsed": false
   },
   "source": [
    "# Load packages"
   ]
  },
  {
   "cell_type": "code",
   "execution_count": null,
   "metadata": {
    "collapsed": false
   },
   "outputs": [],
   "source": [
    "from scipy.stats import mannwhitneyu\n",
    "import matplotlib.lines as mlines\n",
    "from statsmodels.stats.multitest import multipletests\n",
    "from sklearn.model_selection import RepeatedStratifiedKFold\n",
    "import torch\n",
    "from glob import glob\n",
    "import matplotlib.pyplot as plt\n",
    "import seaborn as sns\n",
    "import numpy as np\n",
    "from torchmetrics.functional.regression import mean_absolute_error, pearson_corrcoef\n",
    "import pandas as pd\n",
    "import os"
   ]
  },
  {
   "cell_type": "markdown",
   "metadata": {},
   "source": [
    "# Load data"
   ]
  },
  {
   "cell_type": "code",
   "execution_count": null,
   "metadata": {},
   "outputs": [],
   "source": [
    "feats = pd.read_excel(f\"{os.getcwd()}/data/feats.xlsx\", index_col=0).index.values\n",
    "data = pd.read_excel(f\"{os.getcwd()}/data/data.xlsx\", index_col=0)"
   ]
  },
  {
   "cell_type": "markdown",
   "metadata": {},
   "source": [
    "# Region-specific analysis"
   ]
  },
  {
   "cell_type": "code",
   "execution_count": null,
   "metadata": {},
   "outputs": [],
   "source": [
    "colors_region = {'Central': 'gold', 'Yakutia': 'lightslategray'}"
   ]
  },
  {
   "cell_type": "markdown",
   "metadata": {},
   "source": [
    "## Plot distribution"
   ]
  },
  {
   "cell_type": "code",
   "execution_count": null,
   "metadata": {},
   "outputs": [],
   "source": [
    "hist_bins = np.linspace(5, 115, 23)\n",
    "sns.set_theme(style='whitegrid')\n",
    "fig, ax = plt.subplots(figsize=(2.3, 3))\n",
    "df_fig = data.loc[:, ['Age', 'Region']].copy()\n",
    "df_fig.rename(columns={'Region': 'Cohort'}, inplace=True)\n",
    "histplot = sns.histplot(\n",
    "    data=df_fig,\n",
    "    bins=hist_bins,\n",
    "    edgecolor='k',\n",
    "    linewidth=1,\n",
    "    x=\"Age\",\n",
    "    hue='Cohort',\n",
    "    palette=colors_region,\n",
    "    hue_order=['Yakutia', 'Central'],\n",
    "    ax=ax\n",
    ")\n",
    "histplot.set(xlim=(0, 120))\n",
    "sns.move_legend(histplot, \"lower center\", bbox_to_anchor=(.5, 1), ncol=2, frameon=False)\n",
    "plt.savefig(f\"{os.getcwd()}/data/histplot.png\", bbox_inches='tight', dpi=200)\n",
    "plt.savefig(f\"{os.getcwd()}/data/histplot.pdf\", bbox_inches='tight')\n",
    "plt.close(fig)"
   ]
  },
  {
   "cell_type": "markdown",
   "metadata": {},
   "source": [
    "## Plot pie chart for Region"
   ]
  },
  {
   "cell_type": "code",
   "execution_count": null,
   "metadata": {},
   "outputs": [],
   "source": [
    "region_parts = [data[data['Region'] == 'Central'].shape[0] / data.shape[0] * 100, data[data['Region'] == 'Yakutia'].shape[0]/ data.shape[0] * 100]\n",
    "explode = [0.05, 0.05]\n",
    "fig, ax = plt.subplots(figsize=(2.5, 2.5))\n",
    "plt.pie(\n",
    "    region_parts,\n",
    "    labels=['Central', 'Yakutia'],\n",
    "    colors=[colors_region['Central'], colors_region['Yakutia']],\n",
    "    explode=explode,\n",
    "    autopct='%.2f%%',\n",
    "    wedgeprops={\"edgecolor\": \"black\",'linewidth': 1}\n",
    ")\n",
    "plt.savefig(f\"{os.getcwd()}/data/pie.png\", bbox_inches='tight', dpi=200)\n",
    "plt.savefig(f\"{os.getcwd()}/data/pie.pdf\", bbox_inches='tight')\n",
    "plt.close(fig)"
   ]
  },
  {
   "cell_type": "markdown",
   "metadata": {},
   "source": [
    "## Calculate statistics"
   ]
  },
  {
   "cell_type": "code",
   "execution_count": null,
   "metadata": {},
   "outputs": [],
   "source": [
    "df_stat = pd.DataFrame(index=list(feats))\n",
    "for feat in feats:\n",
    "    vals = {}\n",
    "    for group in ['Central', 'Yakutia']:\n",
    "        vals[group] = data.loc[data['Region'] == group, feat].values\n",
    "        df_stat.at[feat, f\"mean_{group}\"] = np.mean(vals[group])\n",
    "        df_stat.at[feat, f\"median_{group}\"] = np.median(vals[group])\n",
    "        df_stat.at[feat, f\"q75_{group}\"], df_stat.at[feat, f\"q25_{group}\"] = np.percentile(vals[group], [75 , 25])\n",
    "        df_stat.at[feat, f\"iqr_{group}\"] = df_stat.at[feat, f\"q75_{group}\"] - df_stat.at[feat, f\"q25_{group}\"]\n",
    "    _, df_stat.at[feat, \"mw_pval\"] = mannwhitneyu(vals['Central'], vals['Yakutia'], alternative='two-sided')\n",
    "_, df_stat.loc[feats, \"mw_pval_fdr_bh\"], _, _ = multipletests(df_stat.loc[feats, \"mw_pval\"].values, 0.05, method='fdr_bh')\n",
    "_, df_stat.loc[feats, \"mw_pval_bonferroni\"], _, _ = multipletests(df_stat.loc[feats, \"mw_pval\"].values, 0.05, method='bonferroni')\n",
    "_, df_stat.loc[feats, \"mw_pval_simes-hochberg\"], _, _ = multipletests(df_stat.loc[feats, \"mw_pval\"].values, 0.05, method='simes-hochberg')\n",
    "df_stat.sort_values([f\"mw_pval_fdr_bh\"], ascending=[True], inplace=True)\n",
    "df_stat.to_excel(f\"{os.getcwd()}/data/statistics.xlsx\", index_label='Features')"
   ]
  },
  {
   "cell_type": "markdown",
   "metadata": {},
   "source": [
    "## Plot features p-values"
   ]
  },
  {
   "cell_type": "code",
   "execution_count": null,
   "metadata": {},
   "outputs": [],
   "source": [
    "df_fig = df_stat.loc[feats, :]\n",
    "df_fig.sort_values([f\"mw_pval_fdr_bh\"], ascending=[True], inplace=True)\n",
    "df_fig['mw_pval_fdr_bh_log'] = -np.log10(df_fig['mw_pval_fdr_bh'])\n",
    "df_fig['color'] = 'pink'\n",
    "df_fig.loc[df_fig['mw_pval_fdr_bh'] < 0.05, 'color'] = 'red'\n",
    "sns.set_theme(style='whitegrid')\n",
    "fig, ax = plt.subplots(figsize=(3, 12))\n",
    "barplot = sns.barplot(\n",
    "    data=df_fig,\n",
    "    y=df_fig.index,\n",
    "    x='mw_pval_fdr_bh_log',\n",
    "    edgecolor='black',\n",
    "    palette=df_fig['color'].values,\n",
    "    ax=ax,\n",
    ")\n",
    "ax.set_xlabel(r\"$-\\log_{10}(\\mathrm{p-value})$\", fontsize=18)\n",
    "ax.set_ylabel('', fontsize=20)\n",
    "ax.set_xticklabels([f\"{int(tick):d}\" for tick in ax.get_xticks()], fontsize=16)\n",
    "ax.set_yticklabels(ax.get_yticklabels(), fontsize=16)\n",
    "plt.savefig(f\"{os.getcwd()}/data/barplot.png\", bbox_inches='tight', dpi=200)\n",
    "plt.savefig(f\"{os.getcwd()}/data/barplot.pdf\", bbox_inches='tight')\n",
    "plt.close(fig)"
   ]
  },
  {
   "cell_type": "markdown",
   "metadata": {},
   "source": [
    "## Plot features distribution (SHAP values order)"
   ]
  },
  {
   "cell_type": "code",
   "execution_count": null,
   "metadata": {},
   "outputs": [],
   "source": [
    "df_shap = pd.read_excel(f\"{os.getcwd()}/data/classificator/shap_values.xlsx\", index_col=0)\n",
    "df_shap_abs = df_shap.abs()\n",
    "df_feat_imp = pd.DataFrame(index=df_shap_abs.columns, data=df_shap_abs.mean(), columns=['mean_abs_shap'])\n",
    "df_feat_imp.sort_values([f\"mean_abs_shap\"], ascending=[False], inplace=True)\n",
    "feats_sorted = df_feat_imp.index.values\n",
    "\n",
    "n_rows = 4\n",
    "n_cols = 8\n",
    "fig_width = 15\n",
    "fig_height = 12\n",
    "\n",
    "sns.set_theme(style='whitegrid')\n",
    "fig, axs = plt.subplots(n_rows, n_cols, figsize=(fig_width, fig_height), gridspec_kw={})\n",
    "\n",
    "for f_id, f in enumerate(feats_sorted):\n",
    "    row_id, col_id = divmod(f_id, n_cols)\n",
    "    # Hide outliers\n",
    "    q01 = data[f].quantile(0.01)\n",
    "    q99 = data[f].quantile(0.99)\n",
    "    sns.violinplot(\n",
    "        data=data.loc[(data[f] > q01) & (data[f] < q99), :],\n",
    "        x='Region',\n",
    "        y=f,\n",
    "        palette=colors_region,\n",
    "        scale='width',\n",
    "        order=list(colors_region.keys()),\n",
    "        saturation=0.75,\n",
    "        cut=0,\n",
    "        linewidth=1.0,\n",
    "        ax=axs[row_id, col_id],\n",
    "    )\n",
    "    axs[row_id, col_id].set_ylabel(f)\n",
    "    axs[row_id, col_id].set_xlabel('')\n",
    "    axs[row_id, col_id].set(xticklabels=[]) \n",
    "    mw_pval = df_stat.at[f, \"mw_pval_fdr_bh\"]\n",
    "    axs[row_id, col_id].set_title(f'{mw_pval:.2e}')\n",
    "    \n",
    "legend_handles = [\n",
    "    mlines.Line2D([], [], marker='o', linestyle='None', markeredgecolor='k', markerfacecolor=colors_region['Central'], markersize=10, label='Central'),\n",
    "    mlines.Line2D([], [], marker='o', linestyle='None', markeredgecolor='k', markerfacecolor=colors_region['Yakutia'], markersize=10, label='Yakutia')\n",
    "]\n",
    "fig.legend(handles=legend_handles, bbox_to_anchor=(0.5, 1.0), loc=\"lower center\", ncol=2, frameon=False, fontsize='large')\n",
    "fig.tight_layout()    \n",
    "plt.savefig(f\"{os.getcwd()}/data/feats.png\", bbox_inches='tight', dpi=200)\n",
    "plt.savefig(f\"{os.getcwd()}/data/feats.pdf\", bbox_inches='tight')\n",
    "plt.close(fig)"
   ]
  },
  {
   "cell_type": "markdown",
   "metadata": {},
   "source": [
    "## SImAge analysis"
   ]
  },
  {
   "cell_type": "code",
   "execution_count": null,
   "metadata": {},
   "outputs": [],
   "source": [
    "df_fig = data.loc[:, ['Age', 'SImAge', 'SImAge acceleration', 'Region']].copy()\n",
    "df_fig.rename(columns={'Region': 'Cohort'}, inplace=True)\n",
    "sns.set_theme(style='whitegrid')\n",
    "fig, ax = plt.subplots(figsize=(4.5, 4))\n",
    "scatter = sns.scatterplot(\n",
    "    data=df_fig,\n",
    "    x=\"Age\",\n",
    "    y=\"SImAge\",\n",
    "    hue=\"Cohort\",\n",
    "    palette=colors_region,\n",
    "    linewidth=0.2,\n",
    "    alpha=0.75,\n",
    "    edgecolor=\"k\",\n",
    "    s=20,\n",
    "    hue_order=list(colors_region.keys()),\n",
    "    ax=ax\n",
    ")\n",
    "bisect = sns.lineplot(\n",
    "    x=[0, 120],\n",
    "    y=[0, 120],\n",
    "    linestyle='--',\n",
    "    color='black',\n",
    "    linewidth=1.0,\n",
    "    ax=ax\n",
    ")\n",
    "ax.set_xlabel(\"Age\")\n",
    "ax.set_ylabel(\"SImAge\")\n",
    "ax.set_xlim(0, 120)\n",
    "ax.set_ylim(0, 120)\n",
    "plt.gca().set_aspect('equal', adjustable='box')\n",
    "plt.savefig(f\"{os.getcwd()}/data/SImAge_scatter.png\", bbox_inches='tight', dpi=200)\n",
    "plt.savefig(f\"{os.getcwd()}/data/SImAge_scatter.pdf\", bbox_inches='tight')\n",
    "plt.close()\n",
    "\n",
    "sns.set_theme(style='whitegrid')\n",
    "plt.figure(figsize=(2.5, 4))\n",
    "violin = sns.violinplot(\n",
    "    data=df_fig,\n",
    "    x='Cohort',\n",
    "    y='SImAge acceleration',\n",
    "    palette=colors_region,\n",
    "    #hue='Cohort',\n",
    "    scale='width',\n",
    "    order=list(colors_region.keys()),\n",
    "    saturation=0.75,\n",
    "    legend=False\n",
    ")\n",
    "violin.set_xlabel(f\"\")\n",
    "mw_pval = mannwhitneyu(\n",
    "    df_fig.loc[df_fig['Cohort'] == 'Central', 'SImAge acceleration'].values,\n",
    "    df_fig.loc[df_fig['Cohort'] == 'Yakutia', 'SImAge acceleration'].values,\n",
    "    alternative='two-sided').pvalue\n",
    "violin.set_title(f'{mw_pval:.2e}')\n",
    "plt.savefig(f\"{os.getcwd()}/data/SImAge_acceleration.png\", bbox_inches='tight', dpi=200)\n",
    "plt.savefig(f\"{os.getcwd()}/data/SImAge_acceleration.pdf\", bbox_inches='tight')\n",
    "plt.close()\n",
    "\n",
    "df_metrics = pd.DataFrame(\n",
    "    index=['Central', 'Yakutia'],\n",
    "    columns=['mean_absolute_error', 'pearson_corrcoef', 'mean_age_acc']\n",
    ")\n",
    "for cohort in ['Central', 'Yakutia']:\n",
    "    pred = torch.from_numpy(df_fig.loc[df_fig['Cohort'] == cohort, 'SImAge'].values)\n",
    "    real = torch.from_numpy(df_fig.loc[df_fig['Cohort'] == cohort, 'Age'].values)\n",
    "    df_metrics.at[cohort, 'mean_absolute_error'] = mean_absolute_error(pred, real).numpy()\n",
    "    df_metrics.at[cohort, 'pearson_corrcoef'] = pearson_corrcoef(pred, real).numpy()\n",
    "    df_metrics.at[cohort, 'mean_age_acc'] = np.mean(df_fig.loc[df_fig['Cohort'] == cohort, 'SImAge acceleration'].values)\n",
    "df_metrics.to_excel(f\"{os.getcwd()}/data/SImAge_metrics.xlsx\", index_label=\"Metrics\")"
   ]
  },
  {
   "cell_type": "markdown",
   "metadata": {},
   "source": [
    "# Create data for ML"
   ]
  },
  {
   "cell_type": "markdown",
   "metadata": {},
   "source": [
    "## Stratification by regions (target) and age"
   ]
  },
  {
   "cell_type": "code",
   "execution_count": null,
   "metadata": {},
   "outputs": [],
   "source": [
    "random_state = 1337\n",
    "n_splits = 5\n",
    "\n",
    "stratify_cat_parts = {\n",
    "    'Central': data.index[data['Region'] == 'Central'].values,\n",
    "    'Yakutia': data.index[data['Region'] == 'Yakutia'].values,\n",
    "}\n",
    "\n",
    "for part, ids in stratify_cat_parts.items():\n",
    "    print(f\"{part}: {len(ids)}\")\n",
    "    con = data.loc[ids, 'Age'].values\n",
    "    ptp = np.ptp(con)\n",
    "    num_bins = 5\n",
    "    bins = np.linspace(np.min(con) - 0.1 * ptp, np.max(con) + 0.1 * ptp, num_bins + 1)\n",
    "    binned = np.digitize(con, bins) - 1\n",
    "    unique, counts = np.unique(binned, return_counts=True)\n",
    "    occ = dict(zip(unique, counts))\n",
    "    k_fold = RepeatedStratifiedKFold(\n",
    "        n_splits=n_splits,\n",
    "        n_repeats=1,\n",
    "        random_state=random_state\n",
    "    )\n",
    "    splits = k_fold.split(X=ids, y=binned, groups=binned)\n",
    "    \n",
    "    for split_id, (ids_trn_val, ids_tst) in enumerate(splits):\n",
    "        data.loc[ids[ids_trn_val], f\"Split_{split_id}\"] = \"trn_val\"\n",
    "        data.loc[ids[ids_tst], f\"Split_{split_id}\"] = \"tst\""
   ]
  },
  {
   "cell_type": "markdown",
   "metadata": {},
   "source": [
    "## Save data for ML"
   ]
  },
  {
   "cell_type": "code",
   "execution_count": null,
   "metadata": {},
   "outputs": [],
   "source": [
    "data.to_excel(f\"{os.getcwd()}/data.xlsx\", index_label='Index')"
   ]
  }
 ],
 "metadata": {
  "kernelspec": {
   "display_name": "Python 3 (ipykernel)",
   "language": "python",
   "name": "python3"
  },
  "language_info": {
   "codemirror_mode": {
    "name": "ipython",
    "version": 3
   },
   "file_extension": ".py",
   "mimetype": "text/x-python",
   "name": "python",
   "nbconvert_exporter": "python",
   "pygments_lexer": "ipython3",
   "version": "3.9.19"
  }
 },
 "nbformat": 4,
 "nbformat_minor": 0
}
